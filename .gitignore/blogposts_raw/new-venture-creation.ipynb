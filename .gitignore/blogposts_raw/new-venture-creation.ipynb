{
 "cells": [
  {
   "attachments": {},
   "cell_type": "markdown",
   "metadata": {},
   "source": [
    "# New Venture Creation Entrepreneurship for the 21st Century Notes\n",
    "\n"
   ]
  },
  {
   "attachments": {},
   "cell_type": "markdown",
   "metadata": {},
   "source": [
    "- Page 18, best interview tips for asking meaningful questions to entrepreneurs\n",
    "\n",
    "- Page 29, best qualities of an entrepreneur.\n",
    "  - \"Numerous ways of analyzing human behavior have implications in the study of entrepreneurship.1 The psychological motivation of entrepreneurial behav- ior is a generally accepted part of the literature. The theory states that people are motivated by three principal needs: (1) the need for achievement, (2) the need for power, and (3) the need for affiliation.\n",
    "The need for achievement is the need to excel and the need for measurable personal accomplishment.\n",
    "The need for power is the need to influence others to achieve a goal.\n",
    "The need for affiliation is the need to build a relationship with others.\n",
    "The key issue here is the visionary who participates in the day-to-day routine has these attributes in successful startups. Entrepreneurs motivated purely by monetary reward typically do not build companies of substantial value.\"\n",
    "- Table on pg 31 and figure on pg 32 on what makes a good entrepreneur\n",
    "  - \"Commitment and determination are seen as more impor- tant than any other factor.\"\n",
    "  - Successful entrepre- neurs consistently focus on the market-based opportunity rather than the money, resources, con- tacts, and appearances.\n",
    "  - \"The entrepreneur’s credo is to think opportunity first and cash last. Time and again, even after har- vesting a highly successful venture, lead entrepre- neurs will start another company. They possess all the money and material wealth anyone would ever hope for, yet like the artist, scientist, athlete, or musician who strives for another discovery.\"\n",
    "  - \"Evidence also suggests that success is linked to preparation and planning\"\n",
    "  - \"Perhaps only one in 10 to 20 new businesses that survive 5 years or more results in a capital gain for the founders\"\n",
    "  - \"Self assessment is the hardest thing for an entrepreneur to do it, you will really get into trouble. If you do not do it, who will?\""
   ]
  },
  {
   "attachments": {},
   "cell_type": "markdown",
   "metadata": {},
   "source": [
    "- Print off Chapter 2 self reflection exercise"
   ]
  },
  {
   "attachments": {},
   "cell_type": "markdown",
   "metadata": {},
   "source": [
    "- \"First time entrepreneurs frequently have a haphazard “Go for it!” attitude. This reflects a commendable approach as there can be no substitute for doing, but the reality is successful entrepreneurs work hard to mitigate risk before launching their venture. Risk mitigation also reflects the attitude of investors, who want to max- imize their risk-adjusted return by minimizing risk. Experience shows most entrepreneurial endeavors fail by running out of cash, and this cash flow shortfall is usually based on an overly optimistic revenue forecast.\"\n",
    "- "
   ]
  }
 ],
 "metadata": {
  "language_info": {
   "name": "python"
  },
  "orig_nbformat": 4
 },
 "nbformat": 4,
 "nbformat_minor": 2
}
