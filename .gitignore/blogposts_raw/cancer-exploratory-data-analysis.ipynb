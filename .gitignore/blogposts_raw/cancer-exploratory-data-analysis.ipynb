{
 "cells": [
  {
   "attachments": {},
   "cell_type": "markdown",
   "metadata": {},
   "source": [
    "Things of note for this post\n",
    "- Most HTS studies are suspect\n",
    "- Why HTS is compositional \n",
    "- Issues with compositional data\n",
    "- Why it is dangerous to infer negative correlation in compositional data\n",
    "- Higher throughput gives better accuracy on proportions\n",
    "- Why you should always use the centered log-ratio transform or the isometric log-ratio transform (if possible)\n",
    "- Why the Aitchison distance (Euclidean distance of clr-transformed compositions) should be used as a distance metric\n",
    "- What the compositional biplot is and why it should be used\n",
    "  - \"In any dataset, the compositional biplot is the first exploratory data analysis tool that should be used\"\n",
    "  - \"Compositional biplots of real data appear to be complex and intimidating because of the number of samples and features, but with a little patience and practice they are easily interpretable (Aitchison and Greenacre 2002). They are based on the variance of the ratios of the parts, and are substantially more informative that the commonly used PCoA plots that are driven largely by abundance (Gorvitovskaia, Holmes, and Huse 2016).\"\n",
    "- What an ideal dataset looks like for RNA sequencing (Large number of samples, well sequenced organism, not sparse data, simple experiment)\n",
    "- How to deal with outliers\n",
    "  - \"I approach outliers by finding those samples that are further from the middle of the group dataset than expected.\"\n",
    "  - \"We expect that if the samples differ only by technical and biological variation then the distances between samples would be distributed approximately evenly around a midpoint. We can extract the samples distances from the midpoint and determine those that are greater than twice the interquartile range from the median distance and those that are within that range. A histogram of these distances can be plotted to observe if all samples excluded are egregiously different from the median (as all are here) or if the samples excluded are at or near the cut line. If the latter case is found there is not strong evidence for removing outlier samples, and this should not be performed.\"\n",
    "  - \"It is important to check that the outlier samples are truly contributing noise or uncertainty to the system. One way we can do this is to examine a biplot of only those samples that are non-outliers.\"\n",
    "- Clustering samples in compositional data \n",
    "- \"We display the results using a number of different plots in Figure ?? to show how each plot gives a different way of exploring the data.\n",
    "The mainstay that we advocate is the effect plot (Gloor, Macklaim, and Fernandes 2016), that plots the constituents of normalized change, or effect size. The effect plot shows the relationship between the between group difference and the within-group dispersion for each feature. The Bland-Altman plot (Altman and Bland 1983) shows the relationship between the between group difference and the relative abundance of each feature. The volcano plot (Cui and Churchill 2003) shows the relationship between fold-change and the logarithm of the p-value. Finally, the effect vs. p-value plot shows the relationship between effect size and p-value.\""
   ]
  }
 ],
 "metadata": {
  "language_info": {
   "name": "python"
  },
  "orig_nbformat": 4
 },
 "nbformat": 4,
 "nbformat_minor": 2
}
